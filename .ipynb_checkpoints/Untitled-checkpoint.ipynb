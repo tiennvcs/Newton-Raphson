{
 "cells": [
  {
   "cell_type": "code",
   "execution_count": null,
   "metadata": {},
   "outputs": [],
   "source": [
    "def newton_raspson(x: np.ndarray, epsilon=1e-6, N=1000):\n",
    "    n = 1\n",
    "    while (n < N): \n",
    "        # Calculate the F(x)\n",
    "        Fx = F(x=x)\n",
    "        # Calculate the Jacobian matrix\n",
    "        jacobi = Jacobian(x=x)\n",
    "        # Solve the n x n linear system J(x)y = F(x)\n",
    "        y = solveLinearSystem(jacobi=jacobi, Fx=Fx)\n",
    "        # Update solution\n",
    "        x = x - y\n",
    "\n",
    "        # Customize for the problem\n",
    "        for i in range(6):\n",
    "                if x[i] < 0:\n",
    "                    x[i] = np.random.rand()\n",
    "\n",
    "        if LA.norm(y, ord=None) <= epsilon:\n",
    "            return {'x':x, 'n': n, 'error': LA.norm(y, ord=None), 'success': 1}\n",
    "        n = n + 1\n",
    "\n",
    "    return {'x': x, 'n': n, 'error': LA.norm(y, ord=None), 'success': 0}"
   ]
  }
 ],
 "metadata": {
  "kernelspec": {
   "display_name": "Python 3",
   "language": "python",
   "name": "python3"
  },
  "language_info": {
   "codemirror_mode": {
    "name": "ipython",
    "version": 3
   },
   "file_extension": ".py",
   "mimetype": "text/x-python",
   "name": "python",
   "nbconvert_exporter": "python",
   "pygments_lexer": "ipython3",
   "version": "3.7.6"
  }
 },
 "nbformat": 4,
 "nbformat_minor": 4
}
